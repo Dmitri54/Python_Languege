{
 "cells": [
  {
   "cell_type": "code",
   "execution_count": 2,
   "id": "852e13f8",
   "metadata": {},
   "outputs": [
    {
     "name": "stdout",
     "output_type": "stream",
     "text": [
      "123\n",
      "Hello world!\n"
     ]
    }
   ],
   "source": [
    "print(123)\n",
    "print('Hello world!')"
   ]
  },
  {
   "cell_type": "code",
   "execution_count": 3,
   "id": "a5fa9ab0",
   "metadata": {},
   "outputs": [
    {
     "name": "stdout",
     "output_type": "stream",
     "text": [
      "12\n"
     ]
    }
   ],
   "source": [
    "a = 12\n",
    "print(a)"
   ]
  },
  {
   "cell_type": "markdown",
   "id": "1573b565",
   "metadata": {},
   "source": [
    "Ресурс: https://habr.com/ru/post/483408/\n",
    "\n",
    "Создать ячейку ниже: b\n",
    "\n",
    "Создать ячейку выше: a\n",
    "\n",
    "Удалить ячейку: dd\n",
    "\n",
    "Вырезать ячейки: x\n",
    "\n",
    "Копировать ячейки: c\n",
    "\n",
    "Вставить копированные ячейки: v\n",
    "\n",
    "Изменить тип ячейки c \"code\" на \"markdown\" : m\n",
    "\n",
    "Выделить несколько ячеек подряд: Shift + вверх или Shift + вниз\n",
    "\n",
    "Объединить выделенные ячейки: Shift + m\n",
    "\n",
    "Выполнить ячейки:\n",
    "\n",
    "Ctrl + Enter — выполнение ячейки с сохранением фокуса\n",
    "\n",
    "Shift + Enter — выполнение ячейки с переводом фокуса на следующую\n",
    "\n",
    "Комментирование строки: Ctrl + /\n",
    "\n",
    "Для рестарта просто нажмите ESC + 00.\n",
    "\n",
    "Нажатие Space прокрутит блокнот вниз, а Shift + Space — вверх.\n",
    "\n",
    "Для быстрой отмены удаления ячейки нажмите ESC + Z\n",
    "\n",
    "Начав писать код в одной ячейке, мы постоянно сталкиваемся с необходимостью разделить его по разным ячейкам позже.\n",
    "Вместо ручного создания ячейки и копирования текста, поставьте курсор перед линией, с которой начнётся вторая ячейка,\n",
    "и нажмите Control + Shift + -\n",
    "\n",
    "%%script false - Пропустить выполнение блока"
   ]
  },
  {
   "cell_type": "code",
   "execution_count": null,
   "id": "74b324e4",
   "metadata": {},
   "outputs": [],
   "source": [
    "print(123)"
   ]
  },
  {
   "cell_type": "code",
   "execution_count": 4,
   "id": "bb86be88",
   "metadata": {},
   "outputs": [
    {
     "name": "stdout",
     "output_type": "stream",
     "text": [
      "123\n",
      "Hello world!\n"
     ]
    }
   ],
   "source": [
    "print('Hello world!')"
   ]
  },
  {
   "cell_type": "code",
   "execution_count": 5,
   "id": "940d74be",
   "metadata": {},
   "outputs": [
    {
     "name": "stdout",
     "output_type": "stream",
     "text": [
      "CPU times: total: 0 ns\n",
      "Wall time: 0 ns\n"
     ]
    }
   ],
   "source": [
    "%%time # Два %% - считает скорость выполнения у ячейки.\n",
    "for i in range(1000):\n",
    "    pass"
   ]
  },
  {
   "cell_type": "code",
   "execution_count": 6,
   "id": "fb077011",
   "metadata": {},
   "outputs": [
    {
     "name": "stdout",
     "output_type": "stream",
     "text": [
      "12\n",
      "CPU times: total: 0 ns\n",
      "Wall time: 0 ns\n"
     ]
    }
   ],
   "source": [
    "%time print(a) # один % - считает скорость выполнения у строки."
   ]
  },
  {
   "cell_type": "markdown",
   "id": "8914c036",
   "metadata": {},
   "source": [
    "Задача: Дана функция f(x) = 5x^2 + 10x - 30\n",
    "1. Определить корни\n",
    "2. Найти интервалы, на которых функция возрастает\n",
    "3. Найти интервалы, на которых функция убывает\n",
    "4. Построить график\n",
    "5. Вычислить вершину\n",
    "6. Определить промежутки, на котором f > 0 (значит по y > 0)\n",
    "7. Определить промежутки, на котором f < 0"
   ]
  },
  {
   "cell_type": "code",
   "execution_count": 3,
   "id": "72e1be46",
   "metadata": {},
   "outputs": [
    {
     "name": "stdout",
     "output_type": "stream",
     "text": [
      "700\n"
     ]
    }
   ],
   "source": [
    "a = 5\n",
    "b = 10\n",
    "c = -30\n",
    "D = (b*b) - (4*a*c)\n",
    "print(D)"
   ]
  },
  {
   "cell_type": "markdown",
   "id": "89470040",
   "metadata": {},
   "source": [
    "1. Определение корней.\n",
    "4. График функции f(x) = 5x^2 + 10x - 30."
   ]
  },
  {
   "cell_type": "code",
   "execution_count": 9,
   "id": "b3b4dd4d",
   "metadata": {},
   "outputs": [
    {
     "name": "stdout",
     "output_type": "stream",
     "text": [
      "<class 'sympy.core.add.Add'>\n"
     ]
    },
    {
     "data": {
      "image/png": "[encoded data removed]",
      "text/plain": [
       "<Figure size 640x480 with 1 Axes>"
      ]
     },
     "metadata": {},
     "output_type": "display_data"
    },
    {
     "data": {
      "text/plain": [
       "<sympy.plotting.plot.Plot at 0x20a4900ab30>"
      ]
     },
     "execution_count": 9,
     "metadata": {},
     "output_type": "execute_result"
    }
   ],
   "source": [
    "from sympy import *\n",
    "from sympy.plotting import plot\n",
    "x = Symbol('x')\n",
    "f = 5*x**2 + 10*x - 30\n",
    "x1, x2 = solve(f, x)\n",
    "print(type(x1))\n",
    "# print(solve(f, x))\n",
    "plot(f)"
   ]
  },
  {
   "cell_type": "markdown",
   "id": "2216df88",
   "metadata": {},
   "source": [
    "2. Интервалы, на которых функция возрастает.\n",
    "3. Интервалы, на которых функция убывает."
   ]
  },
  {
   "cell_type": "code",
   "execution_count": 6,
   "id": "1346f94e",
   "metadata": {},
   "outputs": [
    {
     "name": "stdout",
     "output_type": "stream",
     "text": [
      "Функция возрастает на промежутке от -1.0 до +оо\n",
      "Функция убывает на промежутке от -оо до -1.0\n"
     ]
    }
   ],
   "source": [
    "xmin = (-b)/(2*a)\n",
    "print(f'Функция возрастает на промежутке от {xmin} до +оо')\n",
    "print(f'Функция убывает на промежутке от -оо до {xmin}')"
   ]
  },
  {
   "cell_type": "markdown",
   "id": "a0a2b849",
   "metadata": {},
   "source": [
    "5. Вычисление вершины."
   ]
  },
  {
   "cell_type": "code",
   "execution_count": 8,
   "id": "fdfb4d39",
   "metadata": {},
   "outputs": [
    {
     "name": "stdout",
     "output_type": "stream",
     "text": [
      "[-1.0, -35.0]\n"
     ]
    }
   ],
   "source": [
    "y = 5* xmin* xmin + 10 * xmin - 30\n",
    "print(f'[{xmin}, {y}]')"
   ]
  },
  {
   "cell_type": "markdown",
   "id": "784d2a08",
   "metadata": {},
   "source": [
    "6. Промежутки, на котором f > 0 (значит по y > 0)."
   ]
  },
  {
   "cell_type": "code",
   "execution_count": 10,
   "id": "38cac4ab",
   "metadata": {},
   "outputs": [
    {
     "name": "stdout",
     "output_type": "stream",
     "text": [
      "Функция положительна на промежутке от -оо до (-1 + sqrt(7)) и от (-sqrt(7) - 1) до +оо\n"
     ]
    }
   ],
   "source": [
    "print(f'Функция положительна на промежутке от -оо до ({x1}) и от ({x2}) до +оо')"
   ]
  },
  {
   "cell_type": "markdown",
   "id": "9ac704d1",
   "metadata": {},
   "source": [
    "7. Промежутки, на котором f < 0."
   ]
  },
  {
   "cell_type": "code",
   "execution_count": 11,
   "id": "569cf707",
   "metadata": {},
   "outputs": [
    {
     "name": "stdout",
     "output_type": "stream",
     "text": [
      "Функция отрицательна на промежутке от -1 + sqrt(7) до -sqrt(7) - 1\n"
     ]
    }
   ],
   "source": [
    "print(f'Функция отрицательна на промежутке от {x1} до {x2}')"
   ]
  },
  {
   "cell_type": "code",
   "execution_count": 23,
   "id": "e55d0d3e",
   "metadata": {},
   "outputs": [
    {
     "data": {
      "image/png": "[encoded data removed]",
      "text/plain": [
       "<Figure size 640x480 with 1 Axes>"
      ]
     },
     "metadata": {},
     "output_type": "display_data"
    }
   ],
   "source": [
    "import numpy as np\n",
    "import matplotlib.pyplot as plt\n",
    "x = np.linspace(-7, 5, 50)\n",
    "y = 5*x**2 + 10*x - 30\n",
    "\n",
    "fig, ax = plt.subplots() # ax - это холст.\n",
    "ax.plot(x, y, color='red', label='y(x)')\n",
    "ax.plot(np.linspace(-10, 10, 50), x*0, color='black') # Ось x.\n",
    "ax.plot(y*0, 5*x**2 + 10*x - 30, color='black') # Ось y. \n",
    "# ax.grid(axis = 'both') # Сетка.\n",
    "# ax.scatter(x, y) - # Добавит на график все точки по x и по y.\n",
    "ax.scatter(-1, -35)\n",
    "ax.set_xlabel('x')\n",
    "ax.set_ylabel('y')\n",
    "ax.legend()\n",
    "\n",
    "plt.show()"
   ]
  }
 ],
 "metadata": {
  "kernelspec": {
   "display_name": "Python 3 (ipykernel)",
   "language": "python",
   "name": "python3"
  },
  "language_info": {
   "codemirror_mode": {
    "name": "ipython",
    "version": 3
   },
   "file_extension": ".py",
   "mimetype": "text/x-python",
   "name": "python",
   "nbconvert_exporter": "python",
   "pygments_lexer": "ipython3",
   "version": "3.10.6"
  },
  "vscode": {
   "interpreter": {
    "hash": "afb734500600fd355917ca529030176ea0ca205570884b88f2f6f7d791fd3fbe"
   }
  }
 },
 "nbformat": 4,
 "nbformat_minor": 5
}
