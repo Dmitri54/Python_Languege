{
 "cells": [
  {
   "cell_type": "code",
   "execution_count": null,
   "id": "3c484698",
   "metadata": {},
   "outputs": [],
   "source": [
    "Задача: Дана функция f(x) = 5x^2 + 10x - 30\n",
    "1. Определить корни\n",
    "2. Найти интервалы, на которых функция возрастает\n",
    "3. Найти интервалы, на которых функция убывает\n",
    "4. Построить график\n",
    "5. Вычислить вершину\n",
    "6. Определить промежутки, на котором f > 0 (значит по y > 0)\n",
    "7. Определить промежутки, на котором f < 0"
   ]
  },
  {
   "cell_type": "code",
   "execution_count": 1,
   "id": "468fd954",
   "metadata": {},
   "outputs": [],
   "source": [
    "import sympy\n",
    "from sympy import is_decreasing, is_increasing\n",
    "from sympy.abc import x, y\n",
    "from sympy import S, Interval, oo"
   ]
  },
  {
   "cell_type": "markdown",
   "id": "ef55ae14",
   "metadata": {},
   "source": [
    "1. Определение корней:"
   ]
  },
  {
   "cell_type": "code",
   "execution_count": 2,
   "id": "5389f756",
   "metadata": {},
   "outputs": [
    {
     "name": "stdout",
     "output_type": "stream",
     "text": [
      "[1.64575131106459, -3.64575131106459]\n"
     ]
    }
   ],
   "source": [
    "from sympy import N, sqrt\n",
    "\n",
    "x = sympy.symbols('x')\n",
    "ans = sympy.solve(5*x**2 + 10*x - 30)\n",
    "shrinking = (-1 + sqrt(7), -sqrt(7) - 1)\n",
    "shrinking = list(map(N,shrinking))\n",
    "print(shrinking)"
   ]
  },
  {
   "cell_type": "markdown",
   "id": "16f5ef3c",
   "metadata": {},
   "source": [
    "2. Нахождение интервала, на которых функция возрастает:"
   ]
  },
  {
   "cell_type": "code",
   "execution_count": 3,
   "id": "b2b0b9b1",
   "metadata": {},
   "outputs": [
    {
     "data": {
      "text/plain": [
       "True"
      ]
     },
     "execution_count": 3,
     "metadata": {},
     "output_type": "execute_result"
    }
   ],
   "source": [
    "is_increasing(5*x**2 + 10*x - 30, Interval.open(-1, oo))"
   ]
  },
  {
   "cell_type": "markdown",
   "id": "82bf97b1",
   "metadata": {},
   "source": [
    "3. Нахождение интервала, на которых функция убывает:"
   ]
  },
  {
   "cell_type": "code",
   "execution_count": 4,
   "id": "2a1e4dbe",
   "metadata": {},
   "outputs": [
    {
     "data": {
      "text/plain": [
       "True"
      ]
     },
     "execution_count": 4,
     "metadata": {},
     "output_type": "execute_result"
    }
   ],
   "source": [
    "is_decreasing(5*x**2 + 10*x - 30, Interval.open(-oo, -1))"
   ]
  },
  {
   "cell_type": "markdown",
   "id": "8626fe60",
   "metadata": {},
   "source": [
    "4. График функции:"
   ]
  },
  {
   "cell_type": "code",
   "execution_count": 5,
   "id": "6584f01c",
   "metadata": {},
   "outputs": [
    {
     "data": {
      "image/png": "[encoded data removed]",
      "text/plain": [
       "<Figure size 1200x1200 with 1 Axes>"
      ]
     },
     "metadata": {},
     "output_type": "display_data"
    }
   ],
   "source": [
    "import matplotlib.pyplot as plt\n",
    "\n",
    "x = [(5*(x**2) + 10*x-30) for x in range(-10, 11)]\n",
    "y = [y for y in range(-10, 11)]\n",
    "\n",
    "fig = plt.figure()\n",
    "\n",
    "ax = fig.add_subplot(2, 2, 4)\n",
    "\n",
    "ax.plot(y, x)\n",
    "ax.grid(axis = 'both')\n",
    "ax.set_title('function graph')\n",
    "\n",
    "fig.set_figwidth(12)\n",
    "fig.set_figheight(12)\n",
    "plt.show()"
   ]
  },
  {
   "cell_type": "markdown",
   "id": "5f189489",
   "metadata": {},
   "source": [
    "5. Вычисление вершины:"
   ]
  },
  {
   "cell_type": "code",
   "execution_count": 16,
   "id": "96ee82f5",
   "metadata": {},
   "outputs": [
    {
     "name": "stdout",
     "output_type": "stream",
     "text": [
      "[-1.0, -35.0]\n"
     ]
    }
   ],
   "source": [
    "def high_point(a, b, c):\n",
    "    x = -b/(2*a)\n",
    "    y = a*x**2+b*x+c\n",
    "    return [x, y]\n",
    "\n",
    "print(high_point(5, 10, -30))"
   ]
  },
  {
   "cell_type": "markdown",
   "id": "f5e3598d",
   "metadata": {},
   "source": [
    "6. Определить промежутки, на котором f > 0 (значит по y > 0)\n",
    "7. Определить промежутки, на котором f < 0"
   ]
  },
  {
   "cell_type": "code",
   "execution_count": 20,
   "id": "914beac7",
   "metadata": {},
   "outputs": [
    {
     "name": "stdout",
     "output_type": "stream",
     "text": [
      " -5 - 45\n",
      "-4.75 - 35.3125\n",
      "-4.5 - 26.25\n",
      "-4.25 - 17.8125\n",
      "-4.0 - 10.0\n",
      "-3.75 - 2.8125\n",
      "-3.5 - -3.75\n",
      "-3.25 - -9.6875\n",
      "-3.0 - -15.0\n",
      "-2.75 - -19.6875\n",
      "-2.5 - -23.75\n",
      "-2.25 - -27.1875\n",
      "-2.0 - -30.0\n",
      "-1.75 - -32.1875\n",
      "-1.5 - -33.75\n",
      "-1.25 - -34.6875\n",
      "-1.0 - -35.0\n",
      "-0.75 - -34.6875\n",
      "-0.5 - -33.75\n",
      "-0.25 - -32.1875\n",
      "0.0 - -30.0\n",
      "0.25 - -27.1875\n",
      "0.5 - -23.75\n",
      "0.75 - -19.6875\n",
      "1.0 - -15.0\n",
      "1.25 - -9.6875\n",
      "1.5 - -3.75\n",
      "1.75 - 2.8125\n",
      "2.0 - 10.0\n",
      "2.25 - 17.8125\n",
      "2.5 - 26.25\n",
      "2.75 - 35.3125\n",
      "3.0 - 45.0\n",
      "3.25 - 55.3125\n",
      "3.5 - 66.25\n",
      "3.75 - 77.8125\n",
      "4.0 - 90.0\n",
      "4.25 - 102.8125\n",
      "4.5 - 116.25\n",
      "4.75 - 130.3125\n"
     ]
    }
   ],
   "source": [
    "i = -5\n",
    "while i < 5:\n",
    "    res = 5*(i**2) + 10*i - 30\n",
    "    print(f'{i:3} - {res}')\n",
    "    i += 0.25"
   ]
  }
 ],
 "metadata": {
  "kernelspec": {
   "display_name": "Python 3",
   "language": "python",
   "name": "python3"
  },
  "language_info": {
   "codemirror_mode": {
    "name": "ipython",
    "version": 3
   },
   "file_extension": ".py",
   "mimetype": "text/x-python",
   "name": "python",
   "nbconvert_exporter": "python",
   "pygments_lexer": "ipython3",
   "version": "3.10.6 (tags/v3.10.6:9c7b4bd, Aug  1 2022, 21:53:49) [MSC v.1932 64 bit (AMD64)]"
  },
  "vscode": {
   "interpreter": {
    "hash": "afb734500600fd355917ca529030176ea0ca205570884b88f2f6f7d791fd3fbe"
   }
  }
 },
 "nbformat": 4,
 "nbformat_minor": 5
}
